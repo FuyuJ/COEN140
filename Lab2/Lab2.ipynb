{
 "cells": [
  {
   "cell_type": "code",
   "execution_count": 2,
   "id": "325dacdc",
   "metadata": {
    "scrolled": false
   },
   "outputs": [
    {
     "name": "stdout",
     "output_type": "stream",
     "text": [
      "Average time for double for-loop: \n",
      "0.007341747045516968\n",
      "Average time for '+' operator: \n",
      "1.3745546340942383e-05\n",
      "Standard deviation for double for-loop: \n",
      "0.002361721937655171\n",
      "Standard deviation for '+' operator: \n",
      "0.00011492564408515568\n"
     ]
    },
    {
     "data": {
      "image/png": "[encoded data removed]",
      "text/plain": [
       "<Figure size 432x288 with 1 Axes>"
      ]
     },
     "metadata": {
      "needs_background": "light"
     },
     "output_type": "display_data"
    },
    {
     "data": {
      "image/png": "[encoded data removed]",
      "text/plain": [
       "<Figure size 432x288 with 1 Axes>"
      ]
     },
     "metadata": {
      "needs_background": "light"
     },
     "output_type": "display_data"
    }
   ],
   "source": [
    "\"\"\"\n",
    "Lab 2 - COEN 140\n",
    "Marianne Fuyu Yamazaki Dorr\n",
    "10/2/2022\n",
    "\n",
    "This program will compare two methods of 100 x100 array additions using double for-loops\n",
    "and '+' operator. It will then calculate the means and standard deviations of both\n",
    "methods after they have been run a 1000 times. The program will then plot two historgrams\n",
    "of the running times of both methods. \n",
    "\"\"\"\n",
    "import numpy as np\n",
    "import time\n",
    "import matplotlib.pyplot as plt\n",
    "\n",
    "vector1 = [0]*1000\n",
    "vector2 = [0]*1000\n",
    "\n",
    "for i in range(1000):\n",
    "    \n",
    "    array1 = np.random.rand(100,100)\n",
    "    array2 = np.random.rand(100,100)\n",
    "\n",
    "    # method 1 addition via double for-loop\n",
    "    \n",
    "    array3a = [[0]*100]*100\n",
    "    start_time1 = time.time()\n",
    "    for x in range(100):\n",
    "        for y in range(100):\n",
    "            array3a[x][y] = array1[x][y]+array2[x][y]\n",
    "        \n",
    "    end_time1 = time.time()\n",
    "    time1 = end_time1 - start_time1\n",
    "    vector1[i] = time1\n",
    "    \n",
    "    # method 2 using the '+' operator \n",
    "\n",
    "    start_time2 = time.time()      \n",
    "    array3b = array1+array2\n",
    "    end_time2 = time.time()\n",
    "    time2 = end_time2 - start_time2\n",
    "\n",
    "    vector2[i] = time2\n",
    "\n",
    "#avg of method 1: double for-loop\n",
    "print(\"Average time for double for-loop: \")\n",
    "avg1 = sum(vector1)/len(vector1)\n",
    "print(str(avg1))\n",
    "\n",
    "#avg of method 2: '+' operator\n",
    "print(\"Average time for '+' operator: \")\n",
    "avg2 = sum(vector2)/len(vector2)\n",
    "print(str(avg2))\n",
    "        \n",
    "#std dev of method 1: double  for-loop\n",
    "variance1 = sum([((x - avg1) ** 2) for x in vector1]) / len(vector1)\n",
    "std1 = variance1 ** 0.5\n",
    "print(\"Standard deviation for double for-loop: \")\n",
    "print(str(std1))\n",
    "\n",
    "#std dev of method 2: '+' operator\n",
    "variance2 = sum([((y - avg2) ** 2) for y in vector2]) / len(vector2)\n",
    "std2 = variance2 ** 0.5\n",
    "print(\"Standard deviation for '+' operator: \")\n",
    "print(str(std2))\n",
    "\n",
    "#histograms\n",
    "hist1 = plt.hist(vector1)\n",
    "plt.title(\"Histogram of running time from double for-loop method for 1000 trials\")\n",
    "plt.show()\n",
    "\n",
    "hist2 = plt.hist(vector2)\n",
    "plt.title(\"Histogram of running time from '+' operator for 1000 trials\")\n",
    "plt.show()"
   ]
  },
  {
   "cell_type": "code",
   "execution_count": 1,
   "id": "687f6009",
   "metadata": {
    "scrolled": true
   },
   "outputs": [
    {
     "name": "stdout",
     "output_type": "stream",
     "text": [
      "Welcome to the nFET (n-field effect transistor) program!\n",
      "This transistor has a threshold voltage of 0.8 V and a gate voltage of 5.0 V.\n",
      "Based on your given voltage for V1 and V2, this program will tell you if the transistor will be on.\n",
      "If it is, this program will also tell you if your transistor is saturated or non-saturated.\n",
      "\n",
      "Enter voltage for terminal 1: 2.8\n",
      "Enter voltage for terminal 2: 5\n",
      "\n",
      "Transistor channel is ON.\n",
      "The transistor is saturated.\n"
     ]
    }
   ],
   "source": [
    "#Transistor Checker\n",
    "\n",
    "\"\"\"\n",
    "Lab 2 - COEN 140\n",
    "Marianne Fuyu Yamazaki Dorr\n",
    "10/2/2022\n",
    "\n",
    "This program will check if the transistor will be on or off based off the user's given terminal voltage values.\n",
    "The transistor already has a preset gate voltage of 5 V and a voltage threshold of 0.8 V. If the transistor is on,\n",
    "the program will also tell the user if the transistor is saturated or not. \n",
    "\n",
    "\"\"\"\n",
    "\n",
    "print(\"Welcome to the nFET (n-field effect transistor) program!\")\n",
    "print(\"This transistor has a threshold voltage of 0.8 V and a gate voltage of 5.0 V.\")\n",
    "print(\"Based on your given voltage for V1 and V2, this program will tell you if the transistor will be on.\")\n",
    "print(\"If it is, this program will also tell you if your transistor is saturated or non-saturated.\")\n",
    "print()\n",
    "\n",
    "VG = 5\n",
    "VTn = 0.8\n",
    "\n",
    "V1 = float(input(\"Enter voltage for terminal 1: \"))\n",
    "V2 = float(input(\"Enter voltage for terminal 2: \"))\n",
    "print()\n",
    "\n",
    "if (V1 < V2):\n",
    "    VSource = V1\n",
    "    VDrain = V2\n",
    "else:\n",
    "    VSource = V2\n",
    "    VDrain = V1\n",
    "\n",
    "VDSn = VDrain - VSource\n",
    "VGSn = VG - VSource\n",
    "# Check for channel \n",
    "if (VGSn >= VTn):\n",
    "    print(\"Transistor channel is ON.\")\n",
    "    channel = True\n",
    "else:\n",
    "    print(\"Transistor channel is OFF.\")\n",
    "    channel = False\n",
    "\n",
    "if (channel):\n",
    "    Vsat = VGSn - VTn\n",
    "    if (VDSn >= Vsat):\n",
    "        print(\"The transistor is saturated.\")\n",
    "        saturation = True\n",
    "    else:\n",
    "        print(\"The transistor is non-saturated.\")\n",
    "        saturation = False\n",
    "else:\n",
    "    Vsat = None"
   ]
  }
 ],
 "metadata": {
  "kernelspec": {
   "display_name": "Python 3 (ipykernel)",
   "language": "python",
   "name": "python3"
  },
  "language_info": {
   "codemirror_mode": {
    "name": "ipython",
    "version": 3
   },
   "file_extension": ".py",
   "mimetype": "text/x-python",
   "name": "python",
   "nbconvert_exporter": "python",
   "pygments_lexer": "ipython3",
   "version": "3.9.12"
  }
 },
 "nbformat": 4,
 "nbformat_minor": 5
}
