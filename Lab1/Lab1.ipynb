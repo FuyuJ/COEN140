{
 "cells": [
  {
   "cell_type": "code",
   "execution_count": 29,
   "id": "9958522b",
   "metadata": {},
   "outputs": [
    {
     "name": "stdout",
     "output_type": "stream",
     "text": [
      "[1, 3, 5, 7]\n"
     ]
    }
   ],
   "source": [
    "def odd_list(n):\n",
    "    \n",
    "    odds = []\n",
    "    i = 1\n",
    "    while (i <= n):\n",
    "        odds.append(i)\n",
    "        i = i + 2\n",
    "    \n",
    "    return odds\n",
    "\n",
    "print(odd_list(7))\n"
   ]
  },
  {
   "cell_type": "code",
   "execution_count": 28,
   "id": "0e69096a",
   "metadata": {},
   "outputs": [
    {
     "name": "stdout",
     "output_type": "stream",
     "text": [
      "[['Daniel,21,MECH'], ['Joe,23,BIOE'], ['Mike,22,COEN'], ['Ryan,19,ELEN'], ['Shannon,18,AMTH']]\n"
     ]
    }
   ],
   "source": [
    "import csv\n",
    "\n",
    "def sorted_list(filename):\n",
    "    sortedlist = []\n",
    "    with open(filename, newline='') as csvfile:\n",
    "        spamreader = csv.reader(csvfile, delimiter=' ', quotechar='|')\n",
    "        for row in spamreader:\n",
    "            sortedlist.append(row)\n",
    "            \n",
    "    sortedlist.sort()\n",
    "    \n",
    "    return sortedlist\n",
    "        \n",
    "\n",
    "print(sorted_list('students.csv'))\n",
    "\n",
    "    "
   ]
  },
  {
   "cell_type": "code",
   "execution_count": 20,
   "id": "b0bb7b44",
   "metadata": {
    "scrolled": true
   },
   "outputs": [
    {
     "name": "stdout",
     "output_type": "stream",
     "text": [
      "a\n"
     ]
    }
   ],
   "source": [
    "def most_common(string):\n",
    "    X = {}\n",
    "    \n",
    "    for c in string:\n",
    "        if (c in X):\n",
    "            X[c] = X[c]+1\n",
    "        else:\n",
    "            X[c] = 1\n",
    "    \n",
    "    max = 1\n",
    "    \n",
    "    for key in X:\n",
    "        if (X[key] > max):\n",
    "            max = X[key]\n",
    "            common = key\n",
    "    \n",
    "    return common\n",
    "\n",
    "print(most_common(\"banana\"))"
   ]
  },
  {
   "cell_type": "code",
   "execution_count": 14,
   "id": "306ec818",
   "metadata": {},
   "outputs": [
    {
     "name": "stdout",
     "output_type": "stream",
     "text": [
      "5.0\n"
     ]
    }
   ],
   "source": [
    "import math\n",
    "\n",
    "print(math.sqrt(25))\n"
   ]
  }
 ],
 "metadata": {
  "kernelspec": {
   "display_name": "Python 3 (ipykernel)",
   "language": "python",
   "name": "python3"
  },
  "language_info": {
   "codemirror_mode": {
    "name": "ipython",
    "version": 3
   },
   "file_extension": ".py",
   "mimetype": "text/x-python",
   "name": "python",
   "nbconvert_exporter": "python",
   "pygments_lexer": "ipython3",
   "version": "3.9.12"
  }
 },
 "nbformat": 4,
 "nbformat_minor": 5
}
